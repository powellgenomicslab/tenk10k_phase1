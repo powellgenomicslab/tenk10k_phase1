{
 "cells": [
  {
   "cell_type": "code",
   "execution_count": 1,
   "metadata": {},
   "outputs": [],
   "source": [
    "import scanpy as sc\n",
    "import pandas as pd\n",
    "import scanpy.external as sce\n",
    "from matplotlib.pyplot import rc_context\n",
    "\n",
    "sc.settings.verbosity = 4  # show logging output\n",
    "# sc.settings.autosave = True  # save figures, do not show them\n",
    "sc.settings.set_figure_params(\n",
    "    dpi=400, dpi_save=500\n",
    ")  # set sufficiently high resolution for saving\n",
    "sc.settings.figdir = \"/directflow/SCCGGroupShare/projects/blabow/tenk10k_phase1/data_processing/scanpy/output/integrated_objects/figures\""
   ]
  },
  {
   "cell_type": "code",
   "execution_count": 2,
   "metadata": {},
   "outputs": [],
   "source": [
    "adata = sc.read(\n",
    "    \"/directflow/SCCGGroupShare/projects/blabow/tenk10k_phase1/data_processing/scanpy/output/integrated_objects/240_libraries/240_libraries_concatenated_harmony_leiden.h5ad\",\n",
    "    backed = 'r+'\n",
    ")"
   ]
  },
  {
   "cell_type": "code",
   "execution_count": 4,
   "metadata": {},
   "outputs": [
    {
     "data": {
      "text/plain": [
       "Index(['cellbender_background_fraction', 'cellbender_cell_probability',\n",
       "       'cellbender_cell_size', 'cellbender_droplet_efficiency',\n",
       "       'celltypist_predicted_labels', 'celltypist_over_clustering',\n",
       "       'celltypist_majority_voting', 'celltypist_conf_score', 'wg2_sample',\n",
       "       'wg2_nCount_RNA', 'wg2_nFeature_RNA', 'wg2_percent_mt',\n",
       "       'wg2_azimuth_predicted_celltype_l2',\n",
       "       'wg2_azimuth_predicted_celltype_l2_score', 'wg2_scpred_prediction',\n",
       "       'Vireo_Individual_Assignment', 'Vireo_DropletType',\n",
       "       'scDblFinder_DropletType', 'scDblFinder_Score', 'scds_score',\n",
       "       'scds_DropletType', 'MajoritySinglet_DropletType',\n",
       "       'MajoritySinglet_Individual_Assignment', 'n_genes', 'n_genes_by_counts',\n",
       "       'total_counts', 'total_counts_mt', 'pct_counts_mt', 'total_counts_ribo',\n",
       "       'pct_counts_ribo', 'total_counts_hb', 'pct_counts_hb',\n",
       "       'original_barcode', 'new_cell_name', 'sequencing_library', 'individual',\n",
       "       'cohort', 'onek1k_id', 'cpg_id_old', 'tob_id', 'cpg_id', 'onek1k_donor',\n",
       "       'ct_id', 'batch', 'leiden'],\n",
       "      dtype='object')"
      ]
     },
     "execution_count": 4,
     "metadata": {},
     "output_type": "execute_result"
    }
   ],
   "source": [
    "adata.obs.columns"
   ]
  },
  {
   "cell_type": "code",
   "execution_count": 8,
   "metadata": {},
   "outputs": [],
   "source": [
    "# get a subset of the metadata for UMAP QC plots\n",
    "adata.obs[\n",
    "    [\n",
    "        \"cellbender_background_fraction\",\n",
    "        \"cellbender_cell_probability\",\n",
    "        \"cellbender_cell_size\",\n",
    "        \"cellbender_droplet_efficiency\",\n",
    "        \"Vireo_DropletType\",\n",
    "        \"scds_DropletType\",\n",
    "        \"scDblFinder_DropletType\",\n",
    "        \"wg2_scpred_prediction\",\n",
    "        \"n_genes\",\n",
    "        \"n_genes_by_counts\",\n",
    "        \"total_counts\",\n",
    "        \"total_counts_mt\",\n",
    "        \"pct_counts_mt\",\n",
    "        \"total_counts_ribo\",\n",
    "        \"pct_counts_ribo\",\n",
    "        \"total_counts_hb\",\n",
    "        \"pct_counts_hb\",\n",
    "        \"sequencing_library\",\n",
    "        \"individual\",\n",
    "        \"cohort\",\n",
    "        \"onek1k_id\",\n",
    "        \"cpg_id_old\",\n",
    "        \"tob_id\", \n",
    "        \"cpg_id\", \n",
    "        \"onek1k_donor\",\n",
    "        \"ct_id\",\n",
    "        \"batch\",\n",
    "        \"leiden\"\n",
    "    ]\n",
    "].to_csv(\n",
    "    \"/directflow/SCCGGroupShare/projects/blabow/tenk10k_phase1/data_processing/scanpy/output/integrated_objects/240_libraries/240_libraries_cell_metadata_subset_pre_filtering.csv\"\n",
    ")"
   ]
  },
  {
   "cell_type": "code",
   "execution_count": null,
   "metadata": {},
   "outputs": [],
   "source": [
    "sc.pp.calculate_qc_metrics(adata, use_raw=True, inplace=True) "
   ]
  }
 ],
 "metadata": {
  "kernelspec": {
   "display_name": "Python 3 (ipykernel)",
   "language": "python",
   "name": "python3"
  }
 },
 "nbformat": 4,
 "nbformat_minor": 2
}
