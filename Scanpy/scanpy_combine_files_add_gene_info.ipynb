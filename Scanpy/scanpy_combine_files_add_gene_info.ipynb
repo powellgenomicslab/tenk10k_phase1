{
 "cells": [
  {
   "cell_type": "code",
   "execution_count": 3,
   "id": "5723c383",
   "metadata": {},
   "outputs": [],
   "source": [
    "import glob\n",
    "import pandas as pd\n",
    "import scanpy as sc\n",
    "import scanpy.external as sce"
   ]
  },
  {
   "cell_type": "code",
   "execution_count": 4,
   "id": "c4ff2aa6",
   "metadata": {},
   "outputs": [],
   "source": [
    "# Output directory\n",
    "out_dir = \"/directflow/SCCGGroupShare/projects/blabow/tenk10k_phase1/data_processing/scanpy/output/integrated_objects/\"\n",
    "\n",
    "# Filtered object directory\n",
    "scanpy_dir = \"/directflow/SCCGGroupShare/projects/blabow/tenk10k_phase1/data_processing/scanpy/output/scanpy_objects_w_metadata/\""
   ]
  },
  {
   "cell_type": "code",
   "execution_count": 3,
   "id": "f9e27fe0",
   "metadata": {},
   "outputs": [],
   "source": [
    "# extract all files\n",
    "scanpy_files = glob.glob(scanpy_dir+\"S*\")\n",
    "\n",
    "# combine anndata objects by samples\n",
    "datasets=[]\n",
    "for file in scanpy_files:\n",
    "    adata = sc.read(file)\n",
    "    datasets.append(adata)\n",
    "adata = datasets[0].concatenate(*datasets[1:])\n",
    "# adata = datasets[0].concatenate(datasets[1:]) # This works "
   ]
  },
  {
   "cell_type": "code",
   "execution_count": 4,
   "id": "88d6340b",
   "metadata": {},
   "outputs": [],
   "source": [
    "# Notes: Making the concatenation work with higher number of samples\n",
    "# more memory efficient (doesn't make 2 copies of each annData object)??\n",
    "# adata = sc.read(scanpy_files[0])\n",
    "# for file in scanpy_files[1:]:\n",
    "#     adata.concatenate(sc.read(file)\n",
    "# maybe I can use AnnCollection rather than concatenating all the datasets?\n",
    "# this will create a concatenated view of the data without copying anything and should be more memory efficient\n",
    "# from anndata.experimental.multi_files import AnnCollection\n",
    "# Anncollection(datasets)"
   ]
  },
  {
   "cell_type": "code",
   "execution_count": 5,
   "id": "c061e662",
   "metadata": {},
   "outputs": [],
   "source": [
    "# Load gencode (v44) gene info file\n",
    "gencode_text_file = '/share/ScratchGeneral/anncuo/reference_data/gencode.v44.basic.annotation_df.txt'\n",
    "gene_info = pd.read_csv(gencode_text_file)\n",
    "\n",
    "# Add gene info to AnnData\n",
    "# set gene ids as indices\n",
    "adata.var.index = [gene for gene in adata.var['gene_ids']]\n",
    "genes_cellranger = adata.var.index\n",
    "# Remove gene version\n",
    "gene_info.index = [gene.split(\".\")[0] for gene in gene_info['gene_id']]\n",
    "# Only consider genes in AnnData object\n",
    "gene_info_df = gene_info[gene_info.index.isin(genes_cellranger)]\n",
    "# Add info\n",
    "adata.var = pd.concat([adata.var,gene_info_df], axis=1)"
   ]
  },
  {
   "cell_type": "code",
   "execution_count": 7,
   "id": "8adf975f",
   "metadata": {},
   "outputs": [],
   "source": [
    "# write\n",
    "out_file = f'{out_dir}/240_libraries_concatenated_gene_info.h5ad'\n",
    "adata.write(out_file)"
   ]
  },
  {
   "cell_type": "markdown",
   "id": "ae5b73ec",
   "metadata": {},
   "source": [
    "# Save list of all the cell types in the object, used to split the object later in the pipeline"
   ]
  },
  {
   "cell_type": "code",
   "execution_count": 5,
   "id": "709945a1",
   "metadata": {},
   "outputs": [],
   "source": [
    "adata = sc.read(f'{out_dir}/240_libraries_concatenated_gene_info.h5ad')"
   ]
  },
  {
   "cell_type": "code",
   "execution_count": 15,
   "id": "b8960fdb",
   "metadata": {},
   "outputs": [],
   "source": [
    "# save list of unique cell types to a .txt file \n",
    "unique_cell_types = adata.obs['wg2_scpred_prediction'].unique()\n",
    "\n",
    "# Write unique cell types to a text file\n",
    "with open(f'{out_dir}unique_cell_types_wg2_scpred.txt', 'w') as f:\n",
    "    for cell_type in unique_cell_types:\n",
    "        f.write(str(cell_type) + '\\n')"
   ]
  },
  {
   "cell_type": "markdown",
   "id": "5558ad55",
   "metadata": {},
   "source": [
    "# Checking that the new object has all data compared to the previous run"
   ]
  },
  {
   "cell_type": "code",
   "execution_count": 5,
   "id": "d5ef6160",
   "metadata": {},
   "outputs": [],
   "source": [
    "adata_240 = sc.read(f'{out_dir}/240_libraries_concatenated_gene_info.h5ad')"
   ]
  },
  {
   "cell_type": "code",
   "execution_count": 6,
   "id": "6b0f992a",
   "metadata": {},
   "outputs": [
    {
     "data": {
      "text/plain": [
       "(5084027, 39)"
      ]
     },
     "execution_count": 6,
     "metadata": {},
     "output_type": "execute_result"
    }
   ],
   "source": [
    "adata_240.obs.shape"
   ]
  },
  {
   "cell_type": "code",
   "execution_count": 7,
   "id": "2b364509",
   "metadata": {},
   "outputs": [
    {
     "data": {
      "text/plain": [
       "240"
      ]
     },
     "execution_count": 7,
     "metadata": {},
     "output_type": "execute_result"
    }
   ],
   "source": [
    "# how many pools?\n",
    "adata_240.obs['batch'].nunique()"
   ]
  },
  {
   "cell_type": "code",
   "execution_count": 8,
   "id": "573239d1",
   "metadata": {},
   "outputs": [
    {
     "data": {
      "text/plain": [
       "240"
      ]
     },
     "execution_count": 8,
     "metadata": {},
     "output_type": "execute_result"
    }
   ],
   "source": [
    "# how many individuals?\n",
    "adata_240.obs['sequencing_library'].nunique()"
   ]
  },
  {
   "cell_type": "code",
   "execution_count": 9,
   "id": "80068bcc",
   "metadata": {},
   "outputs": [
    {
     "data": {
      "text/plain": [
       "1812"
      ]
     },
     "execution_count": 9,
     "metadata": {},
     "output_type": "execute_result"
    }
   ],
   "source": [
    "adata_240.obs['individual'].nunique()"
   ]
  },
  {
   "cell_type": "code",
   "execution_count": 10,
   "id": "008bac76",
   "metadata": {},
   "outputs": [
    {
     "data": {
      "text/plain": [
       "Index(['cellbender_background_fraction', 'cellbender_cell_probability',\n",
       "       'cellbender_cell_size', 'cellbender_droplet_efficiency',\n",
       "       'celltypist_predicted_labels', 'celltypist_over_clustering',\n",
       "       'celltypist_majority_voting', 'celltypist_conf_score', 'wg2_sample',\n",
       "       'wg2_nCount_RNA', 'wg2_nFeature_RNA', 'wg2_percent_mt',\n",
       "       'wg2_azimuth_predicted_celltype_l2',\n",
       "       'wg2_azimuth_predicted_celltype_l2_score', 'wg2_scpred_prediction',\n",
       "       'Vireo_Individual_Assignment', 'Vireo_DropletType',\n",
       "       'scDblFinder_DropletType', 'scDblFinder_Score', 'scds_score',\n",
       "       'scds_DropletType', 'MajoritySinglet_DropletType',\n",
       "       'MajoritySinglet_Individual_Assignment', 'n_genes', 'n_genes_by_counts',\n",
       "       'total_counts', 'total_counts_mt', 'pct_counts_mt', 'original_barcode',\n",
       "       'new_cell_name', 'sequencing_library', 'individual', 'cohort', 'ct_id',\n",
       "       'cpg_id', 'onek1k_id', 'tob_id', 'onek1k_donor', 'batch'],\n",
       "      dtype='object')"
      ]
     },
     "execution_count": 10,
     "metadata": {},
     "output_type": "execute_result"
    }
   ],
   "source": [
    "adata_240.obs.columns"
   ]
  },
  {
   "cell_type": "code",
   "execution_count": 4,
   "id": "31033316",
   "metadata": {},
   "outputs": [
    {
     "name": "stderr",
     "output_type": "stream",
     "text": [
      "Observation names are not unique. To make them unique, call `.obs_names_make_unique`.\n"
     ]
    }
   ],
   "source": [
    "adata_224 = sc.read('/directflow/SCCGGroupShare/projects/anncuo/TenK10K_pilot/tenk10k/data_processing/integrated_objects/224_libraries/concatenated_gene_info_donor_info.h5ad')"
   ]
  },
  {
   "cell_type": "code",
   "execution_count": 5,
   "id": "1e136dca",
   "metadata": {},
   "outputs": [
    {
     "data": {
      "text/plain": [
       "(4494637, 40)"
      ]
     },
     "execution_count": 5,
     "metadata": {},
     "output_type": "execute_result"
    }
   ],
   "source": [
    "adata_224.obs.shape"
   ]
  },
  {
   "cell_type": "code",
   "execution_count": 6,
   "id": "f9442a31",
   "metadata": {},
   "outputs": [
    {
     "data": {
      "text/plain": [
       "224"
      ]
     },
     "execution_count": 6,
     "metadata": {},
     "output_type": "execute_result"
    }
   ],
   "source": [
    "# how many pools?\n",
    "adata_224.obs['batch'].nunique()"
   ]
  },
  {
   "cell_type": "code",
   "execution_count": 7,
   "id": "e0e776d2",
   "metadata": {},
   "outputs": [
    {
     "data": {
      "text/plain": [
       "224"
      ]
     },
     "execution_count": 7,
     "metadata": {},
     "output_type": "execute_result"
    }
   ],
   "source": [
    "# how many individuals?\n",
    "adata_224.obs['sequencing_library'].nunique()"
   ]
  },
  {
   "cell_type": "code",
   "execution_count": 8,
   "id": "db6c9789",
   "metadata": {},
   "outputs": [
    {
     "data": {
      "text/plain": [
       "1654"
      ]
     },
     "execution_count": 8,
     "metadata": {},
     "output_type": "execute_result"
    }
   ],
   "source": [
    "adata_224.obs['individual'].nunique()"
   ]
  },
  {
   "cell_type": "code",
   "execution_count": 9,
   "id": "a4cf45f7",
   "metadata": {},
   "outputs": [
    {
     "data": {
      "text/plain": [
       "589390"
      ]
     },
     "execution_count": 9,
     "metadata": {},
     "output_type": "execute_result"
    }
   ],
   "source": [
    "5084027 - 4494637"
   ]
  },
  {
   "cell_type": "code",
   "execution_count": 10,
   "id": "902d596d",
   "metadata": {},
   "outputs": [
    {
     "data": {
      "text/plain": [
       "Index(['cellbender_background_fraction', 'cellbender_cell_probability',\n",
       "       'cellbender_cell_size', 'cellbender_droplet_efficiency',\n",
       "       'celltypist_predicted_labels', 'celltypist_over_clustering',\n",
       "       'celltypist_majority_voting', 'celltypist_conf_score', 'wg2_sample',\n",
       "       'wg2_nCount_RNA', 'wg2_nFeature_RNA', 'wg2_percent_mt',\n",
       "       'wg2_azimuth_predicted_celltype_l2',\n",
       "       'wg2_azimuth_predicted_celltype_l2_score', 'wg2_scpred_prediction',\n",
       "       'Vireo_Individual_Assignment', 'Vireo_DropletType',\n",
       "       'scDblFinder_DropletType', 'scDblFinder_Score', 'scds_score',\n",
       "       'scds_DropletType', 'MajoritySinglet_DropletType',\n",
       "       'MajoritySinglet_Individual_Assignment', 'n_genes', 'n_genes_by_counts',\n",
       "       'total_counts', 'total_counts_mt', 'pct_counts_mt', 'original_barcode',\n",
       "       'new_cell_name', 'sequencing_library', 'individual', 'cohort',\n",
       "       'onek1k_id', 'cpg_id_old', 'tob_id', 'cpg_id', 'onek1k_donor', 'ct_id',\n",
       "       'batch'],\n",
       "      dtype='object')"
      ]
     },
     "execution_count": 10,
     "metadata": {},
     "output_type": "execute_result"
    }
   ],
   "source": [
    "adata_224.obs.columns"
   ]
  },
  {
   "cell_type": "code",
   "execution_count": 12,
   "id": "7986ddb2",
   "metadata": {},
   "outputs": [
    {
     "data": {
      "text/plain": [
       "40"
      ]
     },
     "execution_count": 12,
     "metadata": {},
     "output_type": "execute_result"
    }
   ],
   "source": [
    "adata_224.obs.columns.nunique()"
   ]
  },
  {
   "cell_type": "code",
   "execution_count": 12,
   "id": "33e4d6b8",
   "metadata": {},
   "outputs": [],
   "source": [
    "obs_240 = ['cellbender_background_fraction', 'cellbender_cell_probability',\n",
    "       'cellbender_cell_size', 'cellbender_droplet_efficiency',\n",
    "       'celltypist_predicted_labels', 'celltypist_over_clustering',\n",
    "       'celltypist_majority_voting', 'celltypist_conf_score', 'wg2_sample',\n",
    "       'wg2_nCount_RNA', 'wg2_nFeature_RNA', 'wg2_percent_mt',\n",
    "       'wg2_azimuth_predicted_celltype_l2',\n",
    "       'wg2_azimuth_predicted_celltype_l2_score', 'wg2_scpred_prediction',\n",
    "       'Vireo_Individual_Assignment', 'Vireo_DropletType',\n",
    "       'scDblFinder_DropletType', 'scDblFinder_Score', 'scds_score',\n",
    "       'scds_DropletType', 'MajoritySinglet_DropletType',\n",
    "       'MajoritySinglet_Individual_Assignment', 'n_genes', 'n_genes_by_counts',\n",
    "       'total_counts', 'total_counts_mt', 'pct_counts_mt', 'original_barcode',\n",
    "       'new_cell_name', 'sequencing_library', 'individual', 'cohort', 'ct_id',\n",
    "       'cpg_id', 'onek1k_id', 'tob_id', 'onek1k_donor', 'batch']\n",
    "obs_224 = ['cellbender_background_fraction', 'cellbender_cell_probability',\n",
    "       'cellbender_cell_size', 'cellbender_droplet_efficiency',\n",
    "       'celltypist_predicted_labels', 'celltypist_over_clustering',\n",
    "       'celltypist_majority_voting', 'celltypist_conf_score', 'wg2_sample',\n",
    "       'wg2_nCount_RNA', 'wg2_nFeature_RNA', 'wg2_percent_mt',\n",
    "       'wg2_azimuth_predicted_celltype_l2',\n",
    "       'wg2_azimuth_predicted_celltype_l2_score', 'wg2_scpred_prediction',\n",
    "       'Vireo_Individual_Assignment', 'Vireo_DropletType',\n",
    "       'scDblFinder_DropletType', 'scDblFinder_Score', 'scds_score',\n",
    "       'scds_DropletType', 'MajoritySinglet_DropletType',\n",
    "       'MajoritySinglet_Individual_Assignment', 'n_genes', 'n_genes_by_counts',\n",
    "       'total_counts', 'total_counts_mt', 'pct_counts_mt', 'original_barcode',\n",
    "       'new_cell_name', 'sequencing_library', 'individual', 'cohort',\n",
    "       'onek1k_id', 'cpg_id_old', 'tob_id', 'cpg_id', 'onek1k_donor', 'ct_id',\n",
    "       'batch']"
   ]
  },
  {
   "cell_type": "code",
   "execution_count": 18,
   "id": "c308c2e2",
   "metadata": {},
   "outputs": [
    {
     "name": "stdout",
     "output_type": "stream",
     "text": [
      "cpg_id_old\n"
     ]
    },
    {
     "data": {
      "text/plain": [
       "[None]"
      ]
     },
     "execution_count": 18,
     "metadata": {},
     "output_type": "execute_result"
    }
   ],
   "source": [
    "[print(i) for i in obs_224 if i not in obs_240]"
   ]
  },
  {
   "cell_type": "code",
   "execution_count": null,
   "id": "3407bdb2",
   "metadata": {},
   "outputs": [],
   "source": []
  }
 ],
 "metadata": {
  "kernelspec": {
   "display_name": "Python 3 (ipykernel)",
   "language": "python",
   "name": "python3"
  },
  "language_info": {
   "codemirror_mode": {
    "name": "ipython",
    "version": 3
   },
   "file_extension": ".py",
   "mimetype": "text/x-python",
   "name": "python",
   "nbconvert_exporter": "python",
   "pygments_lexer": "ipython3",
   "version": "3.7.11"
  }
 },
 "nbformat": 4,
 "nbformat_minor": 5
}
