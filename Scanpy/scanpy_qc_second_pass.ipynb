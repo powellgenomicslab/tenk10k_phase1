{
 "cells": [
  {
   "cell_type": "code",
   "execution_count": 1,
   "id": "900046f0",
   "metadata": {},
   "outputs": [],
   "source": [
    "import scanpy as sc\n",
    "import pandas as pd\n",
    "import scanpy.external as sce\n",
    "\n",
    "sc.settings.verbosity = 4  # show logging output\n",
    "sc.settings.autosave = True  # save figures, do not show them\n",
    "sc.settings.set_figure_params(dpi=400, dpi_save=500)  # set sufficiently high resolution for saving\n",
    "sc.settings.figdir = '/directflow/SCCGGroupShare/projects/blabow/tenk10k_phase1/data_processing/scanpy/output/integrated_objects/figures'"
   ]
  },
  {
   "cell_type": "markdown",
   "id": "e54eed95",
   "metadata": {},
   "source": [
    "Read in the scanpy object containing all 240 libraries, post-filtering and embedding."
   ]
  },
  {
   "cell_type": "code",
   "execution_count": 2,
   "id": "a0f34c5a",
   "metadata": {},
   "outputs": [
    {
     "data": {
      "text/plain": [
       "AnnData object with n_obs × n_vars = 5058048 × 3342\n",
       "    obs: 'cellbender_background_fraction', 'cellbender_cell_probability', 'cellbender_cell_size', 'cellbender_droplet_efficiency', 'celltypist_predicted_labels', 'celltypist_over_clustering', 'celltypist_majority_voting', 'celltypist_conf_score', 'wg2_sample', 'wg2_nCount_RNA', 'wg2_nFeature_RNA', 'wg2_percent_mt', 'wg2_azimuth_predicted_celltype_l2', 'wg2_azimuth_predicted_celltype_l2_score', 'wg2_scpred_prediction', 'Vireo_Individual_Assignment', 'Vireo_DropletType', 'scDblFinder_DropletType', 'scDblFinder_Score', 'scds_score', 'scds_DropletType', 'MajoritySinglet_DropletType', 'MajoritySinglet_Individual_Assignment', 'n_genes', 'n_genes_by_counts', 'total_counts', 'total_counts_mt', 'pct_counts_mt', 'total_counts_ribo', 'pct_counts_ribo', 'total_counts_hb', 'pct_counts_hb', 'original_barcode', 'new_cell_name', 'sequencing_library', 'individual', 'cohort', 'onek1k_id', 'cpg_id_old', 'tob_id', 'cpg_id', 'onek1k_donor', 'ct_id', 'batch'\n",
       "    var: 'gene_ids', 'feature_types', 'genome', 'mt', 'ribo', 'hb', 'chr', 'source', 'type', 'start', 'end', 'score', 'strand', 'phase', 'attributes', 'gene_id', 'gene_name', 'gene_type', 'n_counts', 'highly_variable', 'means', 'dispersions', 'dispersions_norm', 'mean', 'std'\n",
       "    uns: 'cohort_colors', 'hvg', 'neighbors', 'pca', 'umap', 'wg2_scpred_prediction_colors'\n",
       "    obsm: 'X_pca', 'X_pca_harmony', 'X_umap'\n",
       "    varm: 'PCs'\n",
       "    obsp: 'connectivities', 'distances'"
      ]
     },
     "execution_count": 2,
     "metadata": {},
     "output_type": "execute_result"
    }
   ],
   "source": [
    "adata = sc.read('/directflow/SCCGGroupShare/projects/blabow/tenk10k_phase1/data_processing/scanpy/output/integrated_objects/240_libraries/240_libraries_concatenated_harmony.h5ad')\n",
    "adata"
   ]
  },
  {
   "cell_type": "markdown",
   "id": "ddd7d717",
   "metadata": {},
   "source": [
    "# Clustering"
   ]
  },
  {
   "cell_type": "code",
   "execution_count": null,
   "id": "1f6b6ed7",
   "metadata": {},
   "outputs": [
    {
     "name": "stdout",
     "output_type": "stream",
     "text": [
      "running Leiden clustering\n"
     ]
    }
   ],
   "source": [
    "# cluster using leiden algorithm\n",
    "# update scanpy to use this faster igraph implementation??\n",
    "# sc.tl.leiden(adata, flavor=\"igraph\", n_iterations=2)\n",
    "\n",
    "sc.tl.leiden(\n",
    "    adata,\n",
    ")"
   ]
  },
  {
   "cell_type": "code",
   "execution_count": null,
   "id": "684d7b8c",
   "metadata": {},
   "outputs": [],
   "source": [
    "with rc_context({\"figure.figsize\": (5, 5)}):\n",
    "    sc.pl.umap(\n",
    "        adata,\n",
    "        color=[\"leiden\"],\n",
    "        add_outline=True,\n",
    "        legend_loc=\"on data\",\n",
    "        legend_fontsize=12,\n",
    "        legend_fontoutline=2,\n",
    "        frameon=False,\n",
    ")"
   ]
  },
  {
   "cell_type": "markdown",
   "id": "81f425dc",
   "metadata": {},
   "source": [
    "# Re-assess QC "
   ]
  },
  {
   "cell_type": "code",
   "execution_count": null,
   "id": "8f6e304b",
   "metadata": {},
   "outputs": [],
   "source": [
    "# look at sequencing depth / complexity \n",
    "sc.pl.umap(\n",
    "    adata,\n",
    "    color=[\"log1p_total_counts\", \"log1p_n_genes_by_counts\"],\n",
    "    wspace=0.5,\n",
    "    ncols=2,\n",
    ")"
   ]
  },
  {
   "cell_type": "code",
   "execution_count": null,
   "id": "b25404c6",
   "metadata": {},
   "outputs": [],
   "source": [
    "# look at mitochondrial, ribosomal, and hemoglobin gene expression \n",
    "sc.pl.umap(\n",
    "    adata,\n",
    "    color=[\"pct_counts_mt\", \"pct_counts_ribo\", \"pct_counts_hb\"],\n",
    "    wspace=0.5,\n",
    "    ncols=2,\n",
    ")"
   ]
  },
  {
   "cell_type": "markdown",
   "id": "928aa6e4",
   "metadata": {},
   "source": [
    "We will remove the following cells:\n",
    "* Cells classified as platelets, erythrocytes, doublets by scPred\n",
    "* Cells that are in the \"low sequencing depth\" cluster"
   ]
  },
  {
   "cell_type": "code",
   "execution_count": null,
   "id": "e9b94e1b",
   "metadata": {},
   "outputs": [],
   "source": [
    "adata.obs.columns"
   ]
  },
  {
   "cell_type": "code",
   "execution_count": null,
   "id": "7dc59f3c",
   "metadata": {},
   "outputs": [],
   "source": [
    "# Manually identify the cluster that corresponds to the low-seq-depth cells based on the UMAPs above\n",
    "cluster_remove =\n",
    "\n",
    "adata = adata[adata.obs['leiden'] != cluster_remove]\n",
    "adata = adata[adata.obs['wg2_scpred_prediction']]\n"
   ]
  }
 ],
 "metadata": {
  "kernelspec": {
   "display_name": "Python 3 (ipykernel)",
   "language": "python",
   "name": "python3"
  },
  "language_info": {
   "codemirror_mode": {
    "name": "ipython",
    "version": 3
   },
   "file_extension": ".py",
   "mimetype": "text/x-python",
   "name": "python",
   "nbconvert_exporter": "python",
   "pygments_lexer": "ipython3",
   "version": "3.7.11"
  }
 },
 "nbformat": 4,
 "nbformat_minor": 5
}
