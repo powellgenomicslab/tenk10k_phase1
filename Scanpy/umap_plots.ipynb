{
 "cells": [
  {
   "cell_type": "code",
   "execution_count": 1,
   "id": "900046f0",
   "metadata": {},
   "outputs": [],
   "source": [
    "import scanpy as sc\n",
    "import scanpy.external as sce\n",
    "import matplotlib\n",
    "import pandas as pd "
   ]
  },
  {
   "cell_type": "code",
   "execution_count": 2,
   "id": "4cbac552",
   "metadata": {},
   "outputs": [],
   "source": [
    "sc.settings.set_figure_params(dpi_save=500)  # set sufficiently high resolution for saving and so the colors dont get mixed wierdly\n",
    "sc.settings.figdir = '/directflow/SCCGGroupShare/projects/blabow/tenk10k_phase1/data_processing/scanpy/output/integrated_objects/figures'"
   ]
  },
  {
   "cell_type": "code",
   "execution_count": null,
   "id": "bff77bd3",
   "metadata": {},
   "outputs": [],
   "source": [
    "adata = sc.read('/directflow/SCCGGroupShare/projects/blabow/tenk10k_phase1/data_processing/scanpy/output/integrated_objects/240_libraries_concatenated_gene_info_harmony_umap_notsne.h5ad')"
   ]
  },
  {
   "cell_type": "code",
   "execution_count": 8,
   "id": "a6062ff8",
   "metadata": {
    "scrolled": true
   },
   "outputs": [
    {
     "data": {
      "text/plain": [
       "AnnData object with n_obs × n_vars = 5084027 × 3343\n",
       "    obs: 'cellbender_background_fraction', 'cellbender_cell_probability', 'cellbender_cell_size', 'cellbender_droplet_efficiency', 'celltypist_predicted_labels', 'celltypist_over_clustering', 'celltypist_majority_voting', 'celltypist_conf_score', 'wg2_sample', 'wg2_nCount_RNA', 'wg2_nFeature_RNA', 'wg2_percent_mt', 'wg2_azimuth_predicted_celltype_l2', 'wg2_azimuth_predicted_celltype_l2_score', 'wg2_scpred_prediction', 'Vireo_Individual_Assignment', 'Vireo_DropletType', 'scDblFinder_DropletType', 'scDblFinder_Score', 'scds_score', 'scds_DropletType', 'MajoritySinglet_DropletType', 'MajoritySinglet_Individual_Assignment', 'n_genes', 'n_genes_by_counts', 'total_counts', 'total_counts_mt', 'pct_counts_mt', 'original_barcode', 'new_cell_name', 'sequencing_library', 'individual', 'cohort', 'ct_id', 'cpg_id', 'onek1k_id', 'cpg_id_old', 'tob_id', 'onek1k_donor', 'batch'\n",
       "    var: 'gene_ids', 'feature_types', 'genome', 'mt', 'n_cells_by_counts-0', 'mean_counts-0', 'pct_dropout_by_counts-0', 'total_counts-0', 'n_cells_by_counts-1', 'mean_counts-1', 'pct_dropout_by_counts-1', 'total_counts-1', 'n_cells_by_counts-10', 'mean_counts-10', 'pct_dropout_by_counts-10', 'total_counts-10', 'n_cells_by_counts-100', 'mean_counts-100', 'pct_dropout_by_counts-100', 'total_counts-100', 'n_cells_by_counts-101', 'mean_counts-101', 'pct_dropout_by_counts-101', 'total_counts-101', 'n_cells_by_counts-102', 'mean_counts-102', 'pct_dropout_by_counts-102', 'total_counts-102', 'n_cells_by_counts-103', 'mean_counts-103', 'pct_dropout_by_counts-103', 'total_counts-103', 'n_cells_by_counts-104', 'mean_counts-104', 'pct_dropout_by_counts-104', 'total_counts-104', 'n_cells_by_counts-105', 'mean_counts-105', 'pct_dropout_by_counts-105', 'total_counts-105', 'n_cells_by_counts-106', 'mean_counts-106', 'pct_dropout_by_counts-106', 'total_counts-106', 'n_cells_by_counts-107', 'mean_counts-107', 'pct_dropout_by_counts-107', 'total_counts-107', 'n_cells_by_counts-108', 'mean_counts-108', 'pct_dropout_by_counts-108', 'total_counts-108', 'n_cells_by_counts-109', 'mean_counts-109', 'pct_dropout_by_counts-109', 'total_counts-109', 'n_cells_by_counts-11', 'mean_counts-11', 'pct_dropout_by_counts-11', 'total_counts-11', 'n_cells_by_counts-110', 'mean_counts-110', 'pct_dropout_by_counts-110', 'total_counts-110', 'n_cells_by_counts-111', 'mean_counts-111', 'pct_dropout_by_counts-111', 'total_counts-111', 'n_cells_by_counts-112', 'mean_counts-112', 'pct_dropout_by_counts-112', 'total_counts-112', 'n_cells_by_counts-113', 'mean_counts-113', 'pct_dropout_by_counts-113', 'total_counts-113', 'n_cells_by_counts-114', 'mean_counts-114', 'pct_dropout_by_counts-114', 'total_counts-114', 'n_cells_by_counts-115', 'mean_counts-115', 'pct_dropout_by_counts-115', 'total_counts-115', 'n_cells_by_counts-116', 'mean_counts-116', 'pct_dropout_by_counts-116', 'total_counts-116', 'n_cells_by_counts-117', 'mean_counts-117', 'pct_dropout_by_counts-117', 'total_counts-117', 'n_cells_by_counts-118', 'mean_counts-118', 'pct_dropout_by_counts-118', 'total_counts-118', 'n_cells_by_counts-119', 'mean_counts-119', 'pct_dropout_by_counts-119', 'total_counts-119', 'n_cells_by_counts-12', 'mean_counts-12', 'pct_dropout_by_counts-12', 'total_counts-12', 'n_cells_by_counts-120', 'mean_counts-120', 'pct_dropout_by_counts-120', 'total_counts-120', 'n_cells_by_counts-121', 'mean_counts-121', 'pct_dropout_by_counts-121', 'total_counts-121', 'n_cells_by_counts-122', 'mean_counts-122', 'pct_dropout_by_counts-122', 'total_counts-122', 'n_cells_by_counts-123', 'mean_counts-123', 'pct_dropout_by_counts-123', 'total_counts-123', 'n_cells_by_counts-124', 'mean_counts-124', 'pct_dropout_by_counts-124', 'total_counts-124', 'n_cells_by_counts-125', 'mean_counts-125', 'pct_dropout_by_counts-125', 'total_counts-125', 'n_cells_by_counts-126', 'mean_counts-126', 'pct_dropout_by_counts-126', 'total_counts-126', 'n_cells_by_counts-127', 'mean_counts-127', 'pct_dropout_by_counts-127', 'total_counts-127', 'n_cells_by_counts-128', 'mean_counts-128', 'pct_dropout_by_counts-128', 'total_counts-128', 'n_cells_by_counts-129', 'mean_counts-129', 'pct_dropout_by_counts-129', 'total_counts-129', 'n_cells_by_counts-13', 'mean_counts-13', 'pct_dropout_by_counts-13', 'total_counts-13', 'n_cells_by_counts-130', 'mean_counts-130', 'pct_dropout_by_counts-130', 'total_counts-130', 'n_cells_by_counts-131', 'mean_counts-131', 'pct_dropout_by_counts-131', 'total_counts-131', 'n_cells_by_counts-132', 'mean_counts-132', 'pct_dropout_by_counts-132', 'total_counts-132', 'n_cells_by_counts-133', 'mean_counts-133', 'pct_dropout_by_counts-133', 'total_counts-133', 'n_cells_by_counts-134', 'mean_counts-134', 'pct_dropout_by_counts-134', 'total_counts-134', 'n_cells_by_counts-135', 'mean_counts-135', 'pct_dropout_by_counts-135', 'total_counts-135', 'n_cells_by_counts-136', 'mean_counts-136', 'pct_dropout_by_counts-136', 'total_counts-136', 'n_cells_by_counts-137', 'mean_counts-137', 'pct_dropout_by_counts-137', 'total_counts-137', 'n_cells_by_counts-138', 'mean_counts-138', 'pct_dropout_by_counts-138', 'total_counts-138', 'n_cells_by_counts-139', 'mean_counts-139', 'pct_dropout_by_counts-139', 'total_counts-139', 'n_cells_by_counts-14', 'mean_counts-14', 'pct_dropout_by_counts-14', 'total_counts-14', 'n_cells_by_counts-140', 'mean_counts-140', 'pct_dropout_by_counts-140', 'total_counts-140', 'n_cells_by_counts-141', 'mean_counts-141', 'pct_dropout_by_counts-141', 'total_counts-141', 'n_cells_by_counts-142', 'mean_counts-142', 'pct_dropout_by_counts-142', 'total_counts-142', 'n_cells_by_counts-143', 'mean_counts-143', 'pct_dropout_by_counts-143', 'total_counts-143', 'n_cells_by_counts-144', 'mean_counts-144', 'pct_dropout_by_counts-144', 'total_counts-144', 'n_cells_by_counts-145', 'mean_counts-145', 'pct_dropout_by_counts-145', 'total_counts-145', 'n_cells_by_counts-146', 'mean_counts-146', 'pct_dropout_by_counts-146', 'total_counts-146', 'n_cells_by_counts-147', 'mean_counts-147', 'pct_dropout_by_counts-147', 'total_counts-147', 'n_cells_by_counts-148', 'mean_counts-148', 'pct_dropout_by_counts-148', 'total_counts-148', 'n_cells_by_counts-149', 'mean_counts-149', 'pct_dropout_by_counts-149', 'total_counts-149', 'n_cells_by_counts-15', 'mean_counts-15', 'pct_dropout_by_counts-15', 'total_counts-15', 'n_cells_by_counts-150', 'mean_counts-150', 'pct_dropout_by_counts-150', 'total_counts-150', 'n_cells_by_counts-151', 'mean_counts-151', 'pct_dropout_by_counts-151', 'total_counts-151', 'n_cells_by_counts-152', 'mean_counts-152', 'pct_dropout_by_counts-152', 'total_counts-152', 'n_cells_by_counts-153', 'mean_counts-153', 'pct_dropout_by_counts-153', 'total_counts-153', 'n_cells_by_counts-154', 'mean_counts-154', 'pct_dropout_by_counts-154', 'total_counts-154', 'n_cells_by_counts-155', 'mean_counts-155', 'pct_dropout_by_counts-155', 'total_counts-155', 'n_cells_by_counts-156', 'mean_counts-156', 'pct_dropout_by_counts-156', 'total_counts-156', 'n_cells_by_counts-157', 'mean_counts-157', 'pct_dropout_by_counts-157', 'total_counts-157', 'n_cells_by_counts-158', 'mean_counts-158', 'pct_dropout_by_counts-158', 'total_counts-158', 'n_cells_by_counts-159', 'mean_counts-159', 'pct_dropout_by_counts-159', 'total_counts-159', 'n_cells_by_counts-16', 'mean_counts-16', 'pct_dropout_by_counts-16', 'total_counts-16', 'n_cells_by_counts-160', 'mean_counts-160', 'pct_dropout_by_counts-160', 'total_counts-160', 'n_cells_by_counts-161', 'mean_counts-161', 'pct_dropout_by_counts-161', 'total_counts-161', 'n_cells_by_counts-162', 'mean_counts-162', 'pct_dropout_by_counts-162', 'total_counts-162', 'n_cells_by_counts-163', 'mean_counts-163', 'pct_dropout_by_counts-163', 'total_counts-163', 'n_cells_by_counts-164', 'mean_counts-164', 'pct_dropout_by_counts-164', 'total_counts-164', 'n_cells_by_counts-165', 'mean_counts-165', 'pct_dropout_by_counts-165', 'total_counts-165', 'n_cells_by_counts-166', 'mean_counts-166', 'pct_dropout_by_counts-166', 'total_counts-166', 'n_cells_by_counts-167', 'mean_counts-167', 'pct_dropout_by_counts-167', 'total_counts-167', 'n_cells_by_counts-168', 'mean_counts-168', 'pct_dropout_by_counts-168', 'total_counts-168', 'n_cells_by_counts-169', 'mean_counts-169', 'pct_dropout_by_counts-169', 'total_counts-169', 'n_cells_by_counts-17', 'mean_counts-17', 'pct_dropout_by_counts-17', 'total_counts-17', 'n_cells_by_counts-170', 'mean_counts-170', 'pct_dropout_by_counts-170', 'total_counts-170', 'n_cells_by_counts-171', 'mean_counts-171', 'pct_dropout_by_counts-171', 'total_counts-171', 'n_cells_by_counts-172', 'mean_counts-172', 'pct_dropout_by_counts-172', 'total_counts-172', 'n_cells_by_counts-173', 'mean_counts-173', 'pct_dropout_by_counts-173', 'total_counts-173', 'n_cells_by_counts-174', 'mean_counts-174', 'pct_dropout_by_counts-174', 'total_counts-174', 'n_cells_by_counts-175', 'mean_counts-175', 'pct_dropout_by_counts-175', 'total_counts-175', 'n_cells_by_counts-176', 'mean_counts-176', 'pct_dropout_by_counts-176', 'total_counts-176', 'n_cells_by_counts-177', 'mean_counts-177', 'pct_dropout_by_counts-177', 'total_counts-177', 'n_cells_by_counts-178', 'mean_counts-178', 'pct_dropout_by_counts-178', 'total_counts-178', 'n_cells_by_counts-179', 'mean_counts-179', 'pct_dropout_by_counts-179', 'total_counts-179', 'n_cells_by_counts-18', 'mean_counts-18', 'pct_dropout_by_counts-18', 'total_counts-18', 'n_cells_by_counts-180', 'mean_counts-180', 'pct_dropout_by_counts-180', 'total_counts-180', 'n_cells_by_counts-181', 'mean_counts-181', 'pct_dropout_by_counts-181', 'total_counts-181', 'n_cells_by_counts-182', 'mean_counts-182', 'pct_dropout_by_counts-182', 'total_counts-182', 'n_cells_by_counts-183', 'mean_counts-183', 'pct_dropout_by_counts-183', 'total_counts-183', 'n_cells_by_counts-184', 'mean_counts-184', 'pct_dropout_by_counts-184', 'total_counts-184', 'n_cells_by_counts-185', 'mean_counts-185', 'pct_dropout_by_counts-185', 'total_counts-185', 'n_cells_by_counts-186', 'mean_counts-186', 'pct_dropout_by_counts-186', 'total_counts-186', 'n_cells_by_counts-187', 'mean_counts-187', 'pct_dropout_by_counts-187', 'total_counts-187', 'n_cells_by_counts-188', 'mean_counts-188', 'pct_dropout_by_counts-188', 'total_counts-188', 'n_cells_by_counts-189', 'mean_counts-189', 'pct_dropout_by_counts-189', 'total_counts-189', 'n_cells_by_counts-19', 'mean_counts-19', 'pct_dropout_by_counts-19', 'total_counts-19', 'n_cells_by_counts-190', 'mean_counts-190', 'pct_dropout_by_counts-190', 'total_counts-190', 'n_cells_by_counts-191', 'mean_counts-191', 'pct_dropout_by_counts-191', 'total_counts-191', 'n_cells_by_counts-192', 'mean_counts-192', 'pct_dropout_by_counts-192', 'total_counts-192', 'n_cells_by_counts-193', 'mean_counts-193', 'pct_dropout_by_counts-193', 'total_counts-193', 'n_cells_by_counts-194', 'mean_counts-194', 'pct_dropout_by_counts-194', 'total_counts-194', 'n_cells_by_counts-195', 'mean_counts-195', 'pct_dropout_by_counts-195', 'total_counts-195', 'n_cells_by_counts-196', 'mean_counts-196', 'pct_dropout_by_counts-196', 'total_counts-196', 'n_cells_by_counts-197', 'mean_counts-197', 'pct_dropout_by_counts-197', 'total_counts-197', 'n_cells_by_counts-198', 'mean_counts-198', 'pct_dropout_by_counts-198', 'total_counts-198', 'n_cells_by_counts-199', 'mean_counts-199', 'pct_dropout_by_counts-199', 'total_counts-199', 'n_cells_by_counts-2', 'mean_counts-2', 'pct_dropout_by_counts-2', 'total_counts-2', 'n_cells_by_counts-20', 'mean_counts-20', 'pct_dropout_by_counts-20', 'total_counts-20', 'n_cells_by_counts-200', 'mean_counts-200', 'pct_dropout_by_counts-200', 'total_counts-200', 'n_cells_by_counts-201', 'mean_counts-201', 'pct_dropout_by_counts-201', 'total_counts-201', 'n_cells_by_counts-202', 'mean_counts-202', 'pct_dropout_by_counts-202', 'total_counts-202', 'n_cells_by_counts-203', 'mean_counts-203', 'pct_dropout_by_counts-203', 'total_counts-203', 'n_cells_by_counts-204', 'mean_counts-204', 'pct_dropout_by_counts-204', 'total_counts-204', 'n_cells_by_counts-205', 'mean_counts-205', 'pct_dropout_by_counts-205', 'total_counts-205', 'n_cells_by_counts-206', 'mean_counts-206', 'pct_dropout_by_counts-206', 'total_counts-206', 'n_cells_by_counts-207', 'mean_counts-207', 'pct_dropout_by_counts-207', 'total_counts-207', 'n_cells_by_counts-208', 'mean_counts-208', 'pct_dropout_by_counts-208', 'total_counts-208', 'n_cells_by_counts-209', 'mean_counts-209', 'pct_dropout_by_counts-209', 'total_counts-209', 'n_cells_by_counts-21', 'mean_counts-21', 'pct_dropout_by_counts-21', 'total_counts-21', 'n_cells_by_counts-210', 'mean_counts-210', 'pct_dropout_by_counts-210', 'total_counts-210', 'n_cells_by_counts-211', 'mean_counts-211', 'pct_dropout_by_counts-211', 'total_counts-211', 'n_cells_by_counts-212', 'mean_counts-212', 'pct_dropout_by_counts-212', 'total_counts-212', 'n_cells_by_counts-213', 'mean_counts-213', 'pct_dropout_by_counts-213', 'total_counts-213', 'n_cells_by_counts-214', 'mean_counts-214', 'pct_dropout_by_counts-214', 'total_counts-214', 'n_cells_by_counts-215', 'mean_counts-215', 'pct_dropout_by_counts-215', 'total_counts-215', 'n_cells_by_counts-216', 'mean_counts-216', 'pct_dropout_by_counts-216', 'total_counts-216', 'n_cells_by_counts-217', 'mean_counts-217', 'pct_dropout_by_counts-217', 'total_counts-217', 'n_cells_by_counts-218', 'mean_counts-218', 'pct_dropout_by_counts-218', 'total_counts-218', 'n_cells_by_counts-219', 'mean_counts-219', 'pct_dropout_by_counts-219', 'total_counts-219', 'n_cells_by_counts-22', 'mean_counts-22', 'pct_dropout_by_counts-22', 'total_counts-22', 'n_cells_by_counts-220', 'mean_counts-220', 'pct_dropout_by_counts-220', 'total_counts-220', 'n_cells_by_counts-221', 'mean_counts-221', 'pct_dropout_by_counts-221', 'total_counts-221', 'n_cells_by_counts-222', 'mean_counts-222', 'pct_dropout_by_counts-222', 'total_counts-222', 'n_cells_by_counts-223', 'mean_counts-223', 'pct_dropout_by_counts-223', 'total_counts-223', 'n_cells_by_counts-224', 'mean_counts-224', 'pct_dropout_by_counts-224', 'total_counts-224', 'n_cells_by_counts-225', 'mean_counts-225', 'pct_dropout_by_counts-225', 'total_counts-225', 'n_cells_by_counts-226', 'mean_counts-226', 'pct_dropout_by_counts-226', 'total_counts-226', 'n_cells_by_counts-227', 'mean_counts-227', 'pct_dropout_by_counts-227', 'total_counts-227', 'n_cells_by_counts-228', 'mean_counts-228', 'pct_dropout_by_counts-228', 'total_counts-228', 'n_cells_by_counts-229', 'mean_counts-229', 'pct_dropout_by_counts-229', 'total_counts-229', 'n_cells_by_counts-23', 'mean_counts-23', 'pct_dropout_by_counts-23', 'total_counts-23', 'n_cells_by_counts-230', 'mean_counts-230', 'pct_dropout_by_counts-230', 'total_counts-230', 'n_cells_by_counts-231', 'mean_counts-231', 'pct_dropout_by_counts-231', 'total_counts-231', 'n_cells_by_counts-232', 'mean_counts-232', 'pct_dropout_by_counts-232', 'total_counts-232', 'n_cells_by_counts-233', 'mean_counts-233', 'pct_dropout_by_counts-233', 'total_counts-233', 'n_cells_by_counts-234', 'mean_counts-234', 'pct_dropout_by_counts-234', 'total_counts-234', 'n_cells_by_counts-235', 'mean_counts-235', 'pct_dropout_by_counts-235', 'total_counts-235', 'n_cells_by_counts-236', 'mean_counts-236', 'pct_dropout_by_counts-236', 'total_counts-236', 'n_cells_by_counts-237', 'mean_counts-237', 'pct_dropout_by_counts-237', 'total_counts-237', 'n_cells_by_counts-238', 'mean_counts-238', 'pct_dropout_by_counts-238', 'total_counts-238', 'n_cells_by_counts-239', 'mean_counts-239', 'pct_dropout_by_counts-239', 'total_counts-239', 'n_cells_by_counts-24', 'mean_counts-24', 'pct_dropout_by_counts-24', 'total_counts-24', 'n_cells_by_counts-25', 'mean_counts-25', 'pct_dropout_by_counts-25', 'total_counts-25', 'n_cells_by_counts-26', 'mean_counts-26', 'pct_dropout_by_counts-26', 'total_counts-26', 'n_cells_by_counts-27', 'mean_counts-27', 'pct_dropout_by_counts-27', 'total_counts-27', 'n_cells_by_counts-28', 'mean_counts-28', 'pct_dropout_by_counts-28', 'total_counts-28', 'n_cells_by_counts-29', 'mean_counts-29', 'pct_dropout_by_counts-29', 'total_counts-29', 'n_cells_by_counts-3', 'mean_counts-3', 'pct_dropout_by_counts-3', 'total_counts-3', 'n_cells_by_counts-30', 'mean_counts-30', 'pct_dropout_by_counts-30', 'total_counts-30', 'n_cells_by_counts-31', 'mean_counts-31', 'pct_dropout_by_counts-31', 'total_counts-31', 'n_cells_by_counts-32', 'mean_counts-32', 'pct_dropout_by_counts-32', 'total_counts-32', 'n_cells_by_counts-33', 'mean_counts-33', 'pct_dropout_by_counts-33', 'total_counts-33', 'n_cells_by_counts-34', 'mean_counts-34', 'pct_dropout_by_counts-34', 'total_counts-34', 'n_cells_by_counts-35', 'mean_counts-35', 'pct_dropout_by_counts-35', 'total_counts-35', 'n_cells_by_counts-36', 'mean_counts-36', 'pct_dropout_by_counts-36', 'total_counts-36', 'n_cells_by_counts-37', 'mean_counts-37', 'pct_dropout_by_counts-37', 'total_counts-37', 'n_cells_by_counts-38', 'mean_counts-38', 'pct_dropout_by_counts-38', 'total_counts-38', 'n_cells_by_counts-39', 'mean_counts-39', 'pct_dropout_by_counts-39', 'total_counts-39', 'n_cells_by_counts-4', 'mean_counts-4', 'pct_dropout_by_counts-4', 'total_counts-4', 'n_cells_by_counts-40', 'mean_counts-40', 'pct_dropout_by_counts-40', 'total_counts-40', 'n_cells_by_counts-41', 'mean_counts-41', 'pct_dropout_by_counts-41', 'total_counts-41', 'n_cells_by_counts-42', 'mean_counts-42', 'pct_dropout_by_counts-42', 'total_counts-42', 'n_cells_by_counts-43', 'mean_counts-43', 'pct_dropout_by_counts-43', 'total_counts-43', 'n_cells_by_counts-44', 'mean_counts-44', 'pct_dropout_by_counts-44', 'total_counts-44', 'n_cells_by_counts-45', 'mean_counts-45', 'pct_dropout_by_counts-45', 'total_counts-45', 'n_cells_by_counts-46', 'mean_counts-46', 'pct_dropout_by_counts-46', 'total_counts-46', 'n_cells_by_counts-47', 'mean_counts-47', 'pct_dropout_by_counts-47', 'total_counts-47', 'n_cells_by_counts-48', 'mean_counts-48', 'pct_dropout_by_counts-48', 'total_counts-48', 'n_cells_by_counts-49', 'mean_counts-49', 'pct_dropout_by_counts-49', 'total_counts-49', 'n_cells_by_counts-5', 'mean_counts-5', 'pct_dropout_by_counts-5', 'total_counts-5', 'n_cells_by_counts-50', 'mean_counts-50', 'pct_dropout_by_counts-50', 'total_counts-50', 'n_cells_by_counts-51', 'mean_counts-51', 'pct_dropout_by_counts-51', 'total_counts-51', 'n_cells_by_counts-52', 'mean_counts-52', 'pct_dropout_by_counts-52', 'total_counts-52', 'n_cells_by_counts-53', 'mean_counts-53', 'pct_dropout_by_counts-53', 'total_counts-53', 'n_cells_by_counts-54', 'mean_counts-54', 'pct_dropout_by_counts-54', 'total_counts-54', 'n_cells_by_counts-55', 'mean_counts-55', 'pct_dropout_by_counts-55', 'total_counts-55', 'n_cells_by_counts-56', 'mean_counts-56', 'pct_dropout_by_counts-56', 'total_counts-56', 'n_cells_by_counts-57', 'mean_counts-57', 'pct_dropout_by_counts-57', 'total_counts-57', 'n_cells_by_counts-58', 'mean_counts-58', 'pct_dropout_by_counts-58', 'total_counts-58', 'n_cells_by_counts-59', 'mean_counts-59', 'pct_dropout_by_counts-59', 'total_counts-59', 'n_cells_by_counts-6', 'mean_counts-6', 'pct_dropout_by_counts-6', 'total_counts-6', 'n_cells_by_counts-60', 'mean_counts-60', 'pct_dropout_by_counts-60', 'total_counts-60', 'n_cells_by_counts-61', 'mean_counts-61', 'pct_dropout_by_counts-61', 'total_counts-61', 'n_cells_by_counts-62', 'mean_counts-62', 'pct_dropout_by_counts-62', 'total_counts-62', 'n_cells_by_counts-63', 'mean_counts-63', 'pct_dropout_by_counts-63', 'total_counts-63', 'n_cells_by_counts-64', 'mean_counts-64', 'pct_dropout_by_counts-64', 'total_counts-64', 'n_cells_by_counts-65', 'mean_counts-65', 'pct_dropout_by_counts-65', 'total_counts-65', 'n_cells_by_counts-66', 'mean_counts-66', 'pct_dropout_by_counts-66', 'total_counts-66', 'n_cells_by_counts-67', 'mean_counts-67', 'pct_dropout_by_counts-67', 'total_counts-67', 'n_cells_by_counts-68', 'mean_counts-68', 'pct_dropout_by_counts-68', 'total_counts-68', 'n_cells_by_counts-69', 'mean_counts-69', 'pct_dropout_by_counts-69', 'total_counts-69', 'n_cells_by_counts-7', 'mean_counts-7', 'pct_dropout_by_counts-7', 'total_counts-7', 'n_cells_by_counts-70', 'mean_counts-70', 'pct_dropout_by_counts-70', 'total_counts-70', 'n_cells_by_counts-71', 'mean_counts-71', 'pct_dropout_by_counts-71', 'total_counts-71', 'n_cells_by_counts-72', 'mean_counts-72', 'pct_dropout_by_counts-72', 'total_counts-72', 'n_cells_by_counts-73', 'mean_counts-73', 'pct_dropout_by_counts-73', 'total_counts-73', 'n_cells_by_counts-74', 'mean_counts-74', 'pct_dropout_by_counts-74', 'total_counts-74', 'n_cells_by_counts-75', 'mean_counts-75', 'pct_dropout_by_counts-75', 'total_counts-75', 'n_cells_by_counts-76', 'mean_counts-76', 'pct_dropout_by_counts-76', 'total_counts-76', 'n_cells_by_counts-77', 'mean_counts-77', 'pct_dropout_by_counts-77', 'total_counts-77', 'n_cells_by_counts-78', 'mean_counts-78', 'pct_dropout_by_counts-78', 'total_counts-78', 'n_cells_by_counts-79', 'mean_counts-79', 'pct_dropout_by_counts-79', 'total_counts-79', 'n_cells_by_counts-8', 'mean_counts-8', 'pct_dropout_by_counts-8', 'total_counts-8', 'n_cells_by_counts-80', 'mean_counts-80', 'pct_dropout_by_counts-80', 'total_counts-80', 'n_cells_by_counts-81', 'mean_counts-81', 'pct_dropout_by_counts-81', 'total_counts-81', 'n_cells_by_counts-82', 'mean_counts-82', 'pct_dropout_by_counts-82', 'total_counts-82', 'n_cells_by_counts-83', 'mean_counts-83', 'pct_dropout_by_counts-83', 'total_counts-83', 'n_cells_by_counts-84', 'mean_counts-84', 'pct_dropout_by_counts-84', 'total_counts-84', 'n_cells_by_counts-85', 'mean_counts-85', 'pct_dropout_by_counts-85', 'total_counts-85', 'n_cells_by_counts-86', 'mean_counts-86', 'pct_dropout_by_counts-86', 'total_counts-86', 'n_cells_by_counts-87', 'mean_counts-87', 'pct_dropout_by_counts-87', 'total_counts-87', 'n_cells_by_counts-88', 'mean_counts-88', 'pct_dropout_by_counts-88', 'total_counts-88', 'n_cells_by_counts-89', 'mean_counts-89', 'pct_dropout_by_counts-89', 'total_counts-89', 'n_cells_by_counts-9', 'mean_counts-9', 'pct_dropout_by_counts-9', 'total_counts-9', 'n_cells_by_counts-90', 'mean_counts-90', 'pct_dropout_by_counts-90', 'total_counts-90', 'n_cells_by_counts-91', 'mean_counts-91', 'pct_dropout_by_counts-91', 'total_counts-91', 'n_cells_by_counts-92', 'mean_counts-92', 'pct_dropout_by_counts-92', 'total_counts-92', 'n_cells_by_counts-93', 'mean_counts-93', 'pct_dropout_by_counts-93', 'total_counts-93', 'n_cells_by_counts-94', 'mean_counts-94', 'pct_dropout_by_counts-94', 'total_counts-94', 'n_cells_by_counts-95', 'mean_counts-95', 'pct_dropout_by_counts-95', 'total_counts-95', 'n_cells_by_counts-96', 'mean_counts-96', 'pct_dropout_by_counts-96', 'total_counts-96', 'n_cells_by_counts-97', 'mean_counts-97', 'pct_dropout_by_counts-97', 'total_counts-97', 'n_cells_by_counts-98', 'mean_counts-98', 'pct_dropout_by_counts-98', 'total_counts-98', 'n_cells_by_counts-99', 'mean_counts-99', 'pct_dropout_by_counts-99', 'total_counts-99', 'chr', 'source', 'type', 'start', 'end', 'score', 'strand', 'phase', 'attributes', 'gene_id', 'gene_name', 'gene_type', 'n_counts', 'highly_variable', 'means', 'dispersions', 'dispersions_norm', 'mean', 'std'\n",
       "    uns: 'hvg', 'neighbors', 'pca', 'umap'\n",
       "    obsm: 'X_pca', 'X_pca_harmony', 'X_umap'\n",
       "    varm: 'PCs'\n",
       "    obsp: 'connectivities', 'distances'"
      ]
     },
     "execution_count": 8,
     "metadata": {},
     "output_type": "execute_result"
    }
   ],
   "source": [
    "adata"
   ]
  },
  {
   "cell_type": "code",
   "execution_count": 9,
   "id": "ae0358bc",
   "metadata": {},
   "outputs": [],
   "source": [
    "# save the UMAP coords for plotting in R\n",
    "pd.DataFrame(adata.obsm['X_umap'],\n",
    "             columns = ['UMAP1', 'UMAP2'],\n",
    "             index = adata.obs.index).to_csv('/directflow/SCCGGroupShare/projects/blabow/tenk10k_phase1/data_processing/scanpy/output/integrated_objects/240_libraries_harmony_umap_covs.csv')"
   ]
  },
  {
   "cell_type": "code",
   "execution_count": 13,
   "id": "63706abd",
   "metadata": {},
   "outputs": [],
   "source": [
    "# get the celltypes for plotting in r \n",
    "adata.obs[['wg2_scpred_prediction', 'cohort']].to_csv('/directflow/SCCGGroupShare/projects/blabow/tenk10k_phase1/data_processing/scanpy/output/integrated_objects/240_libraries_celltypes_by_cohort.csv')"
   ]
  },
  {
   "cell_type": "code",
   "execution_count": 12,
   "id": "32fecf97",
   "metadata": {},
   "outputs": [
    {
     "data": {
      "text/plain": [
       "Index(['cellbender_background_fraction', 'cellbender_cell_probability',\n",
       "       'cellbender_cell_size', 'cellbender_droplet_efficiency',\n",
       "       'celltypist_predicted_labels', 'celltypist_over_clustering',\n",
       "       'celltypist_majority_voting', 'celltypist_conf_score', 'wg2_sample',\n",
       "       'wg2_nCount_RNA', 'wg2_nFeature_RNA', 'wg2_percent_mt',\n",
       "       'wg2_azimuth_predicted_celltype_l2',\n",
       "       'wg2_azimuth_predicted_celltype_l2_score', 'wg2_scpred_prediction',\n",
       "       'Vireo_Individual_Assignment', 'Vireo_DropletType',\n",
       "       'scDblFinder_DropletType', 'scDblFinder_Score', 'scds_score',\n",
       "       'scds_DropletType', 'MajoritySinglet_DropletType',\n",
       "       'MajoritySinglet_Individual_Assignment', 'n_genes', 'n_genes_by_counts',\n",
       "       'total_counts', 'total_counts_mt', 'pct_counts_mt', 'original_barcode',\n",
       "       'new_cell_name', 'sequencing_library', 'individual', 'cohort', 'ct_id',\n",
       "       'cpg_id', 'onek1k_id', 'cpg_id_old', 'tob_id', 'onek1k_donor', 'batch'],\n",
       "      dtype='object')"
      ]
     },
     "execution_count": 12,
     "metadata": {},
     "output_type": "execute_result"
    }
   ],
   "source": [
    "adata.obs.columns"
   ]
  },
  {
   "cell_type": "code",
   "execution_count": 14,
   "id": "54c71de5",
   "metadata": {},
   "outputs": [],
   "source": [
    "# get a subset of the metadata for UMAP QC plots\n",
    "adata.obs[['wg2_scpred_prediction', 'cohort', 'n_genes', 'n_genes_by_counts',\n",
    "       'total_counts', 'total_counts_mt', 'pct_counts_mt', ]].to_csv('/directflow/SCCGGroupShare/projects/blabow/tenk10k_phase1/data_processing/scanpy/output/integrated_objects/240_libraries_cell_metadata_subset.csv')"
   ]
  },
  {
   "cell_type": "code",
   "execution_count": null,
   "id": "ab35c4c8",
   "metadata": {},
   "outputs": [],
   "source": [
    "# How many highly variable genes were selected?\n",
    "adata.var['highly_variable'].value_counts()"
   ]
  },
  {
   "cell_type": "code",
   "execution_count": null,
   "id": "0a77f65f",
   "metadata": {
    "scrolled": true
   },
   "outputs": [],
   "source": [
    "# note that this is looking at the Harmony PC's \n",
    "sc.pl.pca_variance_ratio(adata, n_pcs=50, log=True)"
   ]
  },
  {
   "cell_type": "code",
   "execution_count": null,
   "id": "8feb21d4",
   "metadata": {},
   "outputs": [],
   "source": [
    "# recompute the standard PC's \n",
    "sc.tl.pca(adata, svd_solver='arpack')"
   ]
  },
  {
   "cell_type": "code",
   "execution_count": null,
   "id": "590589db",
   "metadata": {},
   "outputs": [],
   "source": [
    "# note that this is looking at the Harmony PC's \n",
    "sc.pl.pca_variance_ratio(adata, n_pcs=50, log=True)"
   ]
  },
  {
   "cell_type": "code",
   "execution_count": null,
   "id": "a0f34c5a",
   "metadata": {},
   "outputs": [],
   "source": []
  }
 ],
 "metadata": {
  "kernelspec": {
   "display_name": "Python 3 (ipykernel)",
   "language": "python",
   "name": "python3"
  },
  "language_info": {
   "codemirror_mode": {
    "name": "ipython",
    "version": 3
   },
   "file_extension": ".py",
   "mimetype": "text/x-python",
   "name": "python",
   "nbconvert_exporter": "python",
   "pygments_lexer": "ipython3",
   "version": "3.7.11"
  }
 },
 "nbformat": 4,
 "nbformat_minor": 5
}
