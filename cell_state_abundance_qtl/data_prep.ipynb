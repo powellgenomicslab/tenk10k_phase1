{
 "cells": [
  {
   "cell_type": "markdown",
   "metadata": {},
   "source": [
    "# Prepare the input data objects\n"
   ]
  },
  {
   "cell_type": "markdown",
   "metadata": {},
   "source": [
    "```micromamba activate gena-env```"
   ]
  },
  {
   "cell_type": "code",
   "execution_count": 1,
   "metadata": {},
   "outputs": [],
   "source": [
    "import numpy as np\n",
    "import pandas as pd\n",
    "import multianndata as mad\n",
    "import cna\n",
    "import scanpy as sc\n",
    "import matplotlib.pyplot as plt\n",
    "np.random.seed(0)"
   ]
  },
  {
   "cell_type": "markdown",
   "metadata": {},
   "source": [
    "1. prepare the required inputs:\n",
    "    * cell metadata with donor info for each cell \n",
    "    * cell by gene counts matrix \n",
    "    * donor-level metadata storing covariate information to be used in the GWAS, as well as batches"
   ]
  },
  {
   "cell_type": "code",
   "execution_count": 2,
   "metadata": {},
   "outputs": [],
   "source": [
    "# read in the latest tenk cohort \n",
    "adata = sc.read(\"/directflow/SCCGGroupShare/projects/blabow/tenk10k_phase1/data_processing/scanpy/output/integrated_objects/240_libraries/240_libraries_concatenated_harmony_leiden_filtered_reanalysed.h5ad\")"
   ]
  },
  {
   "cell_type": "code",
   "execution_count": null,
   "metadata": {},
   "outputs": [],
   "source": [
    "# get the cell barcode to donor mapping \n",
    "cell_meta = adata.obs[individual].rename({'individual':'id'})\n",
    "cell_meta.head(3)\n"
   ]
  },
  {
   "cell_type": "code",
   "execution_count": null,
   "metadata": {},
   "outputs": [],
   "source": [
    "# get the counts matrix \n",
    "cells_x_genes = adata.X \n",
    "cells_x_genes.head(3)\n",
    "# export to tsv "
   ]
  },
  {
   "cell_type": "code",
   "execution_count": null,
   "metadata": {},
   "outputs": [],
   "source": [
    "# Make MultiAnnData object\n",
    "madata = mad.MultiAnnData(X = cells_x_genes, obs = cell_meta, sampleid = 'id') \n",
    "# Add all covariate information to d.samplem\n",
    "madata.samplem = madata.samplem.join(sample_meta)\n",
    "# Define nearest neighbor graph and UMAP\n",
    "sc.pp.pca(madata)\n",
    "sc.pp.neighbors(madata)\n",
    "sc.tl.umap(madata)\n",
    "\n",
    "# Define neighborhood abundance matrix (NAM) and NAM-PCs\n",
    "cna.tl.nam(madata)"
   ]
  },
  {
   "cell_type": "code",
   "execution_count": null,
   "metadata": {},
   "outputs": [],
   "source": [
    "outdir='/directflow/SCCGGroupShare/projects/blabow/tenk10k_phase1/data_processing/csa_qtl'\n",
    "madata.write(f'{outdir}/data/scDataObject.h5ad')"
   ]
  },
  {
   "cell_type": "markdown",
   "metadata": {},
   "source": [
    "# Data vis"
   ]
  },
  {
   "cell_type": "code",
   "execution_count": null,
   "metadata": {},
   "outputs": [],
   "source": [
    "# Visualize data\n",
    "plt.scatter(madata.obsm['X_umap'][d.obs.clust1==1,0], d.obsm['X_umap'][d.obs.clust1==1,1], \n",
    "            c=\"green\", edgecolor='none', s=2, label = \"Cluster 1\")\n",
    "plt.scatter(madata.obsm['X_umap'][d.obs.clust2==1,0], d.obsm['X_umap'][d.obs.clust2==1,1], \n",
    "            c=\"purple\", edgecolor='none', s=2, label = \"Cluster 2\")\n",
    "plt.scatter(madata.obsm['X_umap'][d.obs.clust3==1,0], d.obsm['X_umap'][d.obs.clust3==1,1], \n",
    "            c=\"orange\", edgecolor='none', s=2, label = \"Cluster 3\")\n",
    "plt.legend(loc=\"lower left\", markerscale=7, frameon=False)\n",
    "plt.axis(\"off\")\n",
    "plt.show()"
   ]
  },
  {
   "cell_type": "markdown",
   "metadata": {},
   "source": [
    "### Other required inputs:\n",
    "* plink2 format genotyping data for each sample"
   ]
  }
 ],
 "metadata": {
  "kernelspec": {
   "display_name": "Python 3 (ipykernel)",
   "language": "python",
   "name": "python3"
  },
  "language_info": {
   "codemirror_mode": {
    "name": "ipython",
    "version": 3
   },
   "file_extension": ".py",
   "mimetype": "text/x-python",
   "name": "python",
   "nbconvert_exporter": "python",
   "pygments_lexer": "ipython3",
   "version": "3.8.10"
  }
 },
 "nbformat": 4,
 "nbformat_minor": 2
}
