{
 "cells": [
  {
   "cell_type": "markdown",
   "id": "3be41f10",
   "metadata": {},
   "source": [
    "# Whole dataset QC + visualisation"
   ]
  },
  {
   "cell_type": "code",
   "execution_count": 1,
   "id": "43086de2",
   "metadata": {},
   "outputs": [],
   "source": [
    "import glob\n",
    "import pandas as pd\n",
    "import scanpy as sc\n",
    "import scanpy.external as sce"
   ]
  },
  {
   "cell_type": "code",
   "execution_count": 2,
   "id": "20f01c35",
   "metadata": {},
   "outputs": [],
   "source": [
    "# modify settings to improve performance on the large dataset \n",
    "\n",
    "# tell scanpy to do parallel processing with 6 cores\n",
    "sc._settings.ScanpyConfig.n_jobs=6\n",
    "# use .png backend for the plots where possible, will make the plots much smaller in file size vs if they are vectorised\n",
    "sc._settings.settings._vector_friendly=True"
   ]
  },
  {
   "cell_type": "code",
   "execution_count": 3,
   "id": "3020b11b",
   "metadata": {},
   "outputs": [],
   "source": [
    "adata = sc.read('/directflow/SCCGGroupShare/projects/blabow/tenk10k_phase1/data_processing/scanpy/output/integrated_objects/240_libraries_concatenated_gene_info.h5ad')"
   ]
  },
  {
   "cell_type": "code",
   "execution_count": 4,
   "id": "d56908d0",
   "metadata": {},
   "outputs": [
    {
     "data": {
      "text/plain": [
       "<5084027x38592 sparse matrix of type '<class 'numpy.float32'>'\n",
       "\twith 13363152346 stored elements in Compressed Sparse Row format>"
      ]
     },
     "execution_count": 4,
     "metadata": {},
     "output_type": "execute_result"
    }
   ],
   "source": [
    "adata.X"
   ]
  },
  {
   "cell_type": "markdown",
   "id": "992fa805",
   "metadata": {},
   "source": [
    "## QC plots for the whole dataset\n",
    "Note that these data have already been filtered in this script: `tenk10k_phase1/Scanpy/add_metadata_per_sample_no_norm.py`"
   ]
  },
  {
   "cell_type": "markdown",
   "id": "0d72afc6",
   "metadata": {},
   "source": [
    "### Violin plot"
   ]
  },
  {
   "cell_type": "code",
   "execution_count": null,
   "id": "20a0b908",
   "metadata": {},
   "outputs": [],
   "source": [
    "sc.pl.violin(\n",
    "    adata,\n",
    "    [\"n_genes_by_counts\", \"total_counts\", \"pct_counts_mt\"],\n",
    "    jitter=0.4,\n",
    "    multi_panel=True,\n",
    ")"
   ]
  },
  {
   "cell_type": "markdown",
   "id": "17576f37",
   "metadata": {},
   "source": [
    "### Scatter plots"
   ]
  },
  {
   "cell_type": "code",
   "execution_count": null,
   "id": "bef7f9fd",
   "metadata": {},
   "outputs": [],
   "source": [
    "sc.pl.scatter(adata, x=\"total_counts\", y=\"pct_counts_mt\")\n",
    "sc.pl.scatter(adata, x=\"total_counts\", y=\"n_genes_by_counts\")"
   ]
  },
  {
   "cell_type": "markdown",
   "id": "5d5c7835",
   "metadata": {},
   "source": [
    "## Normalisation and scaling"
   ]
  },
  {
   "cell_type": "code",
   "execution_count": null,
   "id": "7a2bced3",
   "metadata": {},
   "outputs": [],
   "source": [
    "sc.pp.normalize_total(adata, target_sum=1e4)\n",
    "sc.pp.log1p(adata)\n",
    "sc.pp.highly_variable_genes(adata, min_mean=0.0125, max_mean=3, min_disp=0.5)"
   ]
  },
  {
   "cell_type": "code",
   "execution_count": null,
   "id": "6bb31079",
   "metadata": {},
   "outputs": [],
   "source": [
    "sc.pl.highly_variable_genes(adata)"
   ]
  },
  {
   "cell_type": "code",
   "execution_count": null,
   "id": "4a0d10c4",
   "metadata": {},
   "outputs": [],
   "source": [
    "sc.pl.highest_expr_genes(adata, n_top=20, )"
   ]
  },
  {
   "cell_type": "code",
   "execution_count": null,
   "id": "c10842e0",
   "metadata": {},
   "outputs": [],
   "source": [
    "adata.raw = adata\n",
    "adata = adata[:, adata_240.var.highly_variable]\n",
    "sc.pp.regress_out(adata_240, ['total_counts', 'pct_counts_mt'])\n",
    "sc.pp.scale(adata_240, max_value=10)"
   ]
  },
  {
   "cell_type": "markdown",
   "id": "da007d68",
   "metadata": {},
   "source": [
    "## Integration\n",
    "Use Harmony to remove batch effects"
   ]
  },
  {
   "cell_type": "code",
   "execution_count": null,
   "id": "b42d2bc9",
   "metadata": {},
   "outputs": [],
   "source": []
  },
  {
   "cell_type": "code",
   "execution_count": null,
   "id": "958e3f72",
   "metadata": {},
   "outputs": [],
   "source": []
  }
 ],
 "metadata": {
  "kernelspec": {
   "display_name": "Python 3 (ipykernel)",
   "language": "python",
   "name": "python3"
  },
  "language_info": {
   "codemirror_mode": {
    "name": "ipython",
    "version": 3
   },
   "file_extension": ".py",
   "mimetype": "text/x-python",
   "name": "python",
   "nbconvert_exporter": "python",
   "pygments_lexer": "ipython3",
   "version": "3.7.11"
  }
 },
 "nbformat": 4,
 "nbformat_minor": 5
}
